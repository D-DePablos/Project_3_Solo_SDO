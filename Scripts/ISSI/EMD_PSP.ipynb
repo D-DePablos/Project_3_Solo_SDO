{
 "metadata": {
  "language_info": {
   "codemirror_mode": {
    "name": "ipython",
    "version": 3
   },
   "file_extension": ".py",
   "mimetype": "text/x-python",
   "name": "python",
   "nbconvert_exporter": "python",
   "pygments_lexer": "ipython3",
   "version": "3.8.5"
  },
  "orig_nbformat": 2,
  "kernelspec": {
   "name": "python3",
   "display_name": "Python 3.8.5 64-bit ('solarphysics': conda)",
   "metadata": {
    "interpreter": {
     "hash": "aa1de505e09bb253f15bbcfa0d72f814ce1b276cec90065a137a5fdc043db919"
    }
   }
  }
 },
 "nbformat": 4,
 "nbformat_minor": 2,
 "cells": [
  {
   "cell_type": "code",
   "execution_count": 1,
   "metadata": {},
   "outputs": [
    {
     "output_type": "stream",
     "name": "stdout",
     "text": [
      "/home/diegodp/Documents/PhD/Paper_3/SolO_SDO_EUI/Scripts\n"
     ]
    }
   ],
   "source": [
    "cd /home/diegodp/Documents/PhD/Paper_3/SolO_SDO_EUI/Scripts"
   ]
  },
  {
   "cell_type": "code",
   "execution_count": 2,
   "metadata": {},
   "outputs": [],
   "source": [
    "import pandas as pd\n",
    "import numpy as np\n",
    "import matplotlib.pyplot as plt\n",
    "from os import makedirs\n",
    "\n",
    "from datetime import datetime, timedelta\n",
    "import PyEMD\n",
    "from EMDComparison.signalHelpers import Signal, SignalFunctions, compareTS\n",
    "from astropy.convolution import Box1DKernel, convolve\n",
    "from sunpy.time import parse_time\n",
    "import idlsave"
   ]
  },
  {
   "cell_type": "code",
   "execution_count": 3,
   "metadata": {},
   "outputs": [],
   "source": [
    "# Set the unsafe, target safe, and dataFolder\n",
    "unsafe_dir = \"/home/diegodp/Documents/PhD/Paper_3/SolO_SDO_EUI/unsafe/\"\n",
    "saveFolder = f\"{unsafe_dir}/ISSI/\"\n",
    "dataFolder = f\"{unsafe_dir}ISSI/\"\n",
    "makedirs(saveFolder, exist_ok=True)\n",
    "\n",
    "# IN SITU DATA\n",
    "df_is = pd.read_csv(f\"{dataFolder}small_ch_in_situ.csv\")\n",
    "df_is.index = pd.to_datetime(df_is[\"Time\"])\n",
    "del df_is[\"Time\"]\n",
    "\n",
    "# REMOTE DATA\n",
    "rs_171 = idlsave.read(f'{dataFolder}small_ch_171_lc_in.sav', verbose=False)\n",
    "rs_193 = idlsave.read(f'{dataFolder}small_ch_193_lc_in.sav', verbose=False)\n",
    "ch_flux = idlsave.read(f'{dataFolder}chflux.sav', verbose=False)\n",
    "\n",
    "# 171 and 193 observations\n",
    "time_array = rs_171.date_obs_171.copy()\n",
    "time_array = [t.decode() for t in list(time_array)]\n",
    "\n",
    "df_171 = pd.DataFrame({\n",
    "    'plume':rs_171.lc_171_plume_in,\n",
    "    'cbpoint':rs_171.lc_171_bp_in,\n",
    "    'chplume':rs_171.lc_171_ch_plume_in,\n",
    "    'chole':rs_171.lc_171_ch_in,\n",
    "    'qsun':rs_171.lc_171_qs_in,\n",
    "}, index = pd.to_datetime(time_array))\n",
    "    \n",
    "df_193 = pd.DataFrame({\n",
    "    'plume':rs_193.lc_193_plume_in,\n",
    "    'cbpoint':rs_193.lc_193_bp_in,\n",
    "    'chplume':rs_193.lc_193_ch_plume_in,\n",
    "    'chole':rs_193.lc_193_ch_in,\n",
    "    'qsun':rs_193.lc_193_qs_in,\n",
    "}, index = pd.to_datetime(time_array))\n",
    "\n",
    "# Open and Bright point flux\n",
    "flux_time = ch_flux.hmitimes.copy()\n",
    "flux_time = [t.decode() for t in list(flux_time)]\n",
    "    \n",
    "df_flux = pd.DataFrame({\n",
    "    \"ch_open_flux\":ch_flux.chofluxes,\n",
    "    \"ch_bpoint_flux\":ch_flux.chbpfluxes,\n",
    "}, index = pd.to_datetime(flux_time, format=\"%Y.%m.%d_%H:%M:%S_TAI\"))"
   ]
  },
  {
   "source": [
    "# Functions"
   ],
   "cell_type": "markdown",
   "metadata": {}
  },
  {
   "cell_type": "code",
   "execution_count": 4,
   "metadata": {},
   "outputs": [],
   "source": [
    "def plot_variables(df, BOXWIDTH=200):\n",
    "    plt.figure(figsize=(20,20))\n",
    "    for index, parameter in enumerate(list(df)):\n",
    "        signal = df[parameter].copy()\n",
    "        csignal = convolve(signal, Box1DKernel(BOXWIDTH), boundary=\"extend\")\n",
    "        smp_signal = 100 * (signal - csignal) / csignal\n",
    "        plt.subplot(5,1,index+1)\n",
    "        plt.plot(smp_signal, color ='black')\n",
    "        plt.ylabel(parameter)\n",
    "    plt.show()\n",
    "    plt.close()"
   ]
  },
  {
   "source": [
    "# Times of relevance"
   ],
   "cell_type": "markdown",
   "metadata": {}
  },
  {
   "cell_type": "code",
   "execution_count": 5,
   "metadata": {},
   "outputs": [],
   "source": [
    "PeriodMinMax = [5, 60]\n",
    "\n",
    "timeInsitu = (datetime(2018,10,31,12), datetime(2018,10,31,22))\n",
    "timeInsitu = (datetime(2018,10,31,12), datetime(2018,10,31,15))\n",
    "\n",
    "# All of 171 and all of 193 to correlate?\n",
    "time171 = (df_171.head(1).index.to_pydatetime()[0], df_171.tail(1).index.to_pydatetime()[0])\n",
    "time193 = (df_193.head(1).index.to_pydatetime()[0], df_193.tail(1).index.to_pydatetime()[0])\n",
    "\n",
    "timeFlux = (parse_time(\"2018-10-29 16:00:09.350\").datetime,  parse_time(\"2018-10-30 23:49:57.350\").datetime)\n",
    "\n",
    "dfRemotes = {\n",
    "    \"df_171\": df_171[time171[0] : time171[1]], \n",
    "    \"df_193\": df_171[time193[0] : time193[1]],\n",
    "    \"df_flux\": df_flux[timeFlux[0] : timeFlux[1]],\n",
    "    }\n",
    "\n",
    "# Coloured columns for reference\n",
    "acc_column = {\n",
    "    \"start\": datetime(2018,10,30,2),\n",
    "    \"end\": datetime(2018,10,30,19),\n",
    "    \"label\": \"4/3 Acc. Vsw\",\n",
    "    \"color\": \"yellow\",\n",
    "    \"height\": 1,\n",
    "}\n",
    "\n",
    "con_column = {\n",
    "    \"start\": datetime(2018,10,30,11),\n",
    "    \"end\": datetime(2018,10,31,2),\n",
    "    \"label\": \"Con. Vsw\",\n",
    "    \"color\": \"blue\",\n",
    "    \"height\": 1,\n",
    "}"
   ]
  },
  {
   "source": [
    "# Using compareTS from signalFunctions"
   ],
   "cell_type": "markdown",
   "metadata": {}
  },
  {
   "cell_type": "code",
   "execution_count": 6,
   "metadata": {},
   "outputs": [
    {
     "output_type": "stream",
     "name": "stdout",
     "text": [
      "Normalising PSP_Br\nNormalising 171_plume\nDeleting otherSigFunc and selfSigFunc folders\nSaving IMF files to /home/diegodp/Documents/PhD/Paper_3/SolO_SDO_EUI/unsafe//ISSI/171/171_plume/PSP_Br/60s/5 - 60/\nFound 980 displacements possible.\n"
     ]
    },
    {
     "output_type": "error",
     "ename": "IndexError",
     "evalue": "index 10 is out of bounds for axis 1 with size 10",
     "traceback": [
      "\u001b[0;31m---------------------------------------------------------------------------\u001b[0m",
      "\u001b[0;31mIndexError\u001b[0m                                Traceback (most recent call last)",
      "\u001b[0;32m<ipython-input-6-df9d5b041491>\u001b[0m in \u001b[0;36m<module>\u001b[0;34m\u001b[0m\n\u001b[1;32m     23\u001b[0m     )\n\u001b[1;32m     24\u001b[0m \u001b[0;34m\u001b[0m\u001b[0m\n\u001b[0;32m---> 25\u001b[0;31m \u001b[0mAIA_compare\u001b[0m\u001b[0;34m(\u001b[0m\u001b[0;34m)\u001b[0m\u001b[0;34m\u001b[0m\u001b[0;34m\u001b[0m\u001b[0m\n\u001b[0m",
      "\u001b[0;32m<ipython-input-6-df9d5b041491>\u001b[0m in \u001b[0;36mAIA_compare\u001b[0;34m(AIA, PSP, AIA_id)\u001b[0m\n\u001b[1;32m      4\u001b[0m     \u001b[0mPSP\u001b[0m\u001b[0;34m.\u001b[0m\u001b[0mcolumns\u001b[0m \u001b[0;34m=\u001b[0m \u001b[0;34m[\u001b[0m\u001b[0;34mf\"PSP_{i}\"\u001b[0m \u001b[0;32mfor\u001b[0m \u001b[0mi\u001b[0m \u001b[0;32min\u001b[0m \u001b[0mPSP\u001b[0m\u001b[0;34m.\u001b[0m\u001b[0mcolumns\u001b[0m\u001b[0;34m]\u001b[0m\u001b[0;34m\u001b[0m\u001b[0;34m\u001b[0m\u001b[0m\n\u001b[1;32m      5\u001b[0m     \u001b[0mspecificFolder\u001b[0m \u001b[0;34m=\u001b[0m \u001b[0;34mf\"{saveFolder}{AIA_id}/\"\u001b[0m\u001b[0;34m\u001b[0m\u001b[0;34m\u001b[0m\u001b[0m\n\u001b[0;32m----> 6\u001b[0;31m     compareTS(\n\u001b[0m\u001b[1;32m      7\u001b[0m         \u001b[0mdfSelf\u001b[0m \u001b[0;34m=\u001b[0m \u001b[0mAIA\u001b[0m\u001b[0;34m,\u001b[0m\u001b[0;34m\u001b[0m\u001b[0;34m\u001b[0m\u001b[0m\n\u001b[1;32m      8\u001b[0m         \u001b[0mdfOther\u001b[0m \u001b[0;34m=\u001b[0m \u001b[0mPSP\u001b[0m\u001b[0;34m,\u001b[0m\u001b[0;34m\u001b[0m\u001b[0;34m\u001b[0m\u001b[0m\n",
      "\u001b[0;32m~/Documents/PhD/Paper_3/SolO_SDO_EUI/Scripts/EMDComparison/signalHelpers.py\u001b[0m in \u001b[0;36mcompareTS\u001b[0;34m(dfSelf, dfOther, cadSelf, cadOther, labelOther, winDispList, corrThrPlotList, PeriodMinMax, filterPeriods, savePath, useRealTime, expectedLocationList, detrend_box_width, delete, showFig, renormalize)\u001b[0m\n\u001b[1;32m   1736\u001b[0m                     \u001b[0mrmtree\u001b[0m\u001b[0;34m(\u001b[0m\u001b[0mselfSigFunc\u001b[0m\u001b[0;34m.\u001b[0m\u001b[0msaveFolder\u001b[0m\u001b[0;34m,\u001b[0m \u001b[0mignore_errors\u001b[0m\u001b[0;34m=\u001b[0m\u001b[0;32mTrue\u001b[0m\u001b[0;34m)\u001b[0m\u001b[0;34m\u001b[0m\u001b[0;34m\u001b[0m\u001b[0m\n\u001b[1;32m   1737\u001b[0m \u001b[0;34m\u001b[0m\u001b[0m\n\u001b[0;32m-> 1738\u001b[0;31m                 selfSigFunc.generate_windows(\n\u001b[0m\u001b[1;32m   1739\u001b[0m                     \u001b[0mother\u001b[0m\u001b[0;34m=\u001b[0m\u001b[0motherSigFunc\u001b[0m\u001b[0;34m,\u001b[0m\u001b[0;34m\u001b[0m\u001b[0;34m\u001b[0m\u001b[0m\n\u001b[1;32m   1740\u001b[0m                     \u001b[0mwindowDisp\u001b[0m\u001b[0;34m=\u001b[0m\u001b[0mwindowDisp\u001b[0m\u001b[0;34m,\u001b[0m\u001b[0;34m\u001b[0m\u001b[0;34m\u001b[0m\u001b[0m\n",
      "\u001b[0;32m~/Documents/PhD/Paper_3/SolO_SDO_EUI/Scripts/EMDComparison/signalHelpers.py\u001b[0m in \u001b[0;36mgenerate_windows\u001b[0;34m(self, other, windowDisp, plot_long_imfs, long_window_imf_list, filterIMFs_on_plot, useRealTime, filterPeriods, filter_low_high, renormalize)\u001b[0m\n\u001b[1;32m    916\u001b[0m                         \u001b[0;31m# Contains pearsonR values, SpearmanR values, and validity\u001b[0m\u001b[0;34m\u001b[0m\u001b[0;34m\u001b[0m\u001b[0;34m\u001b[0m\u001b[0m\n\u001b[1;32m    917\u001b[0m                         \u001b[0;31m# Get the p value for each!\u001b[0m\u001b[0;34m\u001b[0m\u001b[0;34m\u001b[0m\u001b[0;34m\u001b[0m\u001b[0m\n\u001b[0;32m--> 918\u001b[0;31m                         \u001b[0mcorr_matrix\u001b[0m\u001b[0;34m[\u001b[0m\u001b[0mi\u001b[0m\u001b[0;34m,\u001b[0m \u001b[0mj\u001b[0m\u001b[0;34m,\u001b[0m \u001b[0mheight\u001b[0m\u001b[0;34m,\u001b[0m \u001b[0;36m0\u001b[0m\u001b[0;34m]\u001b[0m \u001b[0;34m=\u001b[0m \u001b[0mpearsonr\u001b[0m\u001b[0;34m(\u001b[0m\u001b[0mrow\u001b[0m\u001b[0;34m,\u001b[0m \u001b[0mcol\u001b[0m\u001b[0;34m)\u001b[0m\u001b[0;34m[\u001b[0m\u001b[0;36m0\u001b[0m\u001b[0;34m]\u001b[0m\u001b[0;34m\u001b[0m\u001b[0;34m\u001b[0m\u001b[0m\n\u001b[0m\u001b[1;32m    919\u001b[0m                         \u001b[0mcorr_matrix\u001b[0m\u001b[0;34m[\u001b[0m\u001b[0mi\u001b[0m\u001b[0;34m,\u001b[0m \u001b[0mj\u001b[0m\u001b[0;34m,\u001b[0m \u001b[0mheight\u001b[0m\u001b[0;34m,\u001b[0m \u001b[0;36m1\u001b[0m\u001b[0;34m]\u001b[0m \u001b[0;34m=\u001b[0m \u001b[0mpearsonr\u001b[0m\u001b[0;34m(\u001b[0m\u001b[0mrow\u001b[0m\u001b[0;34m,\u001b[0m \u001b[0mcol\u001b[0m\u001b[0;34m)\u001b[0m\u001b[0;34m[\u001b[0m\u001b[0;36m1\u001b[0m\u001b[0;34m]\u001b[0m\u001b[0;34m\u001b[0m\u001b[0;34m\u001b[0m\u001b[0m\n\u001b[1;32m    920\u001b[0m                         \u001b[0mcorr_matrix\u001b[0m\u001b[0;34m[\u001b[0m\u001b[0mi\u001b[0m\u001b[0;34m,\u001b[0m \u001b[0mj\u001b[0m\u001b[0;34m,\u001b[0m \u001b[0mheight\u001b[0m\u001b[0;34m,\u001b[0m \u001b[0;36m2\u001b[0m\u001b[0;34m]\u001b[0m \u001b[0;34m=\u001b[0m \u001b[0mvalid\u001b[0m\u001b[0;34m\u001b[0m\u001b[0;34m\u001b[0m\u001b[0m\n",
      "\u001b[0;31mIndexError\u001b[0m: index 10 is out of bounds for axis 1 with size 10"
     ]
    }
   ],
   "source": [
    "# TODO : Fix bug here\n",
    "def AIA_compare(AIA=dfRemotes[\"df_171\"], PSP=df_is, AIA_id=\"171\"):\n",
    "\n",
    "    AIA.columns = [f\"{AIA_id}_{i}\" for i in AIA.columns]\n",
    "    PSP.columns = [f\"PSP_{i}\" for i in PSP.columns]\n",
    "    specificFolder = f\"{saveFolder}{AIA_id}/\"\n",
    "    compareTS(\n",
    "        dfSelf = AIA,\n",
    "        dfOther = PSP,\n",
    "        cadSelf=60,\n",
    "        cadOther=60,\n",
    "        labelOther= \"PSP\",\n",
    "        winDispList =[60],\n",
    "        corrThrPlotList = np.arange(0.4, 1, 0.05),\n",
    "        PeriodMinMax = PeriodMinMax,\n",
    "        filterPeriods=True,\n",
    "        savePath =specificFolder,\n",
    "        useRealTime=True,\n",
    "        expectedLocationList = [acc_column, con_column],\n",
    "        detrend_box_width=200,\n",
    "        delete=True,\n",
    "        showFig=False,\n",
    "        renormalize=False\n",
    "    )\n",
    "\n",
    "AIA_compare()"
   ]
  }
 ]
}