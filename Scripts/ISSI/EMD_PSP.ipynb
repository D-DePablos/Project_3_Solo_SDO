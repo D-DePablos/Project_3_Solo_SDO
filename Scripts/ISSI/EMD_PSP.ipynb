{
 "metadata": {
  "language_info": {
   "codemirror_mode": {
    "name": "ipython",
    "version": 3
   },
   "file_extension": ".py",
   "mimetype": "text/x-python",
   "name": "python",
   "nbconvert_exporter": "python",
   "pygments_lexer": "ipython3",
   "version": "3.8.5"
  },
  "orig_nbformat": 2,
  "kernelspec": {
   "name": "python3",
   "display_name": "Python 3.8.5 64-bit",
   "metadata": {
    "interpreter": {
     "hash": "aa1de505e09bb253f15bbcfa0d72f814ce1b276cec90065a137a5fdc043db919"
    }
   }
  }
 },
 "nbformat": 4,
 "nbformat_minor": 2,
 "cells": [
  {
   "cell_type": "code",
   "execution_count": 1,
   "metadata": {},
   "outputs": [],
   "source": [
    "BASE_PATH = \"/home/diegodp/Documents/PhD/Paper_3/SolO_SDO_EUI/\"\n",
    "\n",
    "from sys import path\n",
    "\n",
    "path.append(f\"{BASE_PATH}Scripts/\")\n",
    "\n",
    "import pandas as pd\n",
    "import numpy as np\n",
    "import matplotlib.pyplot as plt\n",
    "from os import makedirs\n",
    "\n",
    "from datetime import datetime, timedelta\n",
    "import PyEMD\n",
    "from EMDComparison.signalHelpers import Signal, SignalFunctions, compareTS\n",
    "from astropy.convolution import Box1DKernel, convolve\n",
    "from sunpy.time import parse_time\n",
    "import idlsave\n"
   ]
  },
  {
   "cell_type": "code",
   "execution_count": 2,
   "metadata": {},
   "outputs": [],
   "source": [
    "# Set the unsafe, target safe, and dataFolder\n",
    "unsafe_dir = \"/home/diegodp/Documents/PhD/Paper_3/SolO_SDO_EUI/unsafe/\"\n",
    "saveFolder = f\"{unsafe_dir}ISSI/\"\n",
    "dataFolder = f\"/home/diegodp/Documents/PhD/Paper_3/SolO_SDO_EUI/Scripts/ISSI/data/\"\n",
    "makedirs(saveFolder, exist_ok=True)\n",
    "\n",
    "# IN SITU DATA\n",
    "df_is = pd.read_csv(f\"{dataFolder}small_ch_in_situ.csv\")\n",
    "df_is.index = pd.to_datetime(df_is[\"Time\"])\n",
    "del df_is[\"Time\"]\n",
    "\n",
    "# REMOTE DATA\n",
    "rs_171 = idlsave.read(f'{dataFolder}small_ch_171_lc_in.sav', verbose=False)\n",
    "rs_193 = idlsave.read(f'{dataFolder}small_ch_193_lc_in.sav', verbose=False)\n",
    "ch_flux = idlsave.read(f'{dataFolder}chflux.sav', verbose=False)\n",
    "\n",
    "# 171 and 193 observations\n",
    "time_array = rs_171.date_obs_171.copy()\n",
    "time_array = [t.decode() for t in list(time_array)]\n",
    "\n",
    "df_171 = pd.DataFrame(\n",
    "    {\n",
    "        'plume': rs_171.lc_171_plume_in,\n",
    "        'cbpoint': rs_171.lc_171_bp_in,\n",
    "        'chplume': rs_171.lc_171_ch_plume_in,\n",
    "        'chole': rs_171.lc_171_ch_in,\n",
    "        'qsun': rs_171.lc_171_qs_in,\n",
    "    },\n",
    "    index=pd.to_datetime(time_array))\n",
    "\n",
    "df_193 = pd.DataFrame(\n",
    "    {\n",
    "        'plume': rs_193.lc_193_plume_in,\n",
    "        'cbpoint': rs_193.lc_193_bp_in,\n",
    "        'chplume': rs_193.lc_193_ch_plume_in,\n",
    "        'chole': rs_193.lc_193_ch_in,\n",
    "        'qsun': rs_193.lc_193_qs_in,\n",
    "    },\n",
    "    index=pd.to_datetime(time_array))\n",
    "\n",
    "# Open and Bright point flux\n",
    "flux_time = ch_flux.hmitimes.copy()\n",
    "flux_time = [t.decode() for t in list(flux_time)]\n",
    "\n",
    "df_flux = pd.DataFrame(\n",
    "    {\n",
    "        \"ch_open_flux\": ch_flux.chofluxes,\n",
    "        \"ch_bpoint_flux\": ch_flux.chbpfluxes,\n",
    "    },\n",
    "    index=pd.to_datetime(flux_time, format=\"%Y.%m.%d_%H:%M:%S_TAI\"))"
   ]
  },
  {
   "source": [
    "# Times of relevance"
   ],
   "cell_type": "markdown",
   "metadata": {}
  },
  {
   "cell_type": "code",
   "execution_count": 7,
   "metadata": {},
   "outputs": [
    {
     "output_type": "execute_result",
     "data": {
      "text/plain": [
       "                     ch_open_flux  ch_bpoint_flux\n",
       "2018-10-28 00:00:00 -1.308001e+19    6.376789e+19\n",
       "2018-10-28 00:12:00 -1.330703e+19    6.847705e+19\n",
       "2018-10-28 00:24:00 -1.253655e+19    8.740412e+19\n",
       "2018-10-28 00:36:00 -1.258985e+19    1.023376e+20\n",
       "2018-10-28 00:48:00 -1.205261e+19    8.876795e+19\n",
       "...                           ...             ...\n",
       "2018-10-30 07:00:00 -1.329372e+19    9.233607e+19\n",
       "2018-10-30 07:12:00 -1.291377e+19    1.103461e+20\n",
       "2018-10-30 07:24:00 -1.206358e+19    1.040168e+20\n",
       "2018-10-30 07:36:00 -1.196758e+19    1.134233e+20\n",
       "2018-10-30 07:48:00 -1.292715e+19    1.322772e+20\n",
       "\n",
       "[280 rows x 2 columns]"
      ],
      "text/html": "<div>\n<style scoped>\n    .dataframe tbody tr th:only-of-type {\n        vertical-align: middle;\n    }\n\n    .dataframe tbody tr th {\n        vertical-align: top;\n    }\n\n    .dataframe thead th {\n        text-align: right;\n    }\n</style>\n<table border=\"1\" class=\"dataframe\">\n  <thead>\n    <tr style=\"text-align: right;\">\n      <th></th>\n      <th>ch_open_flux</th>\n      <th>ch_bpoint_flux</th>\n    </tr>\n  </thead>\n  <tbody>\n    <tr>\n      <th>2018-10-28 00:00:00</th>\n      <td>-1.308001e+19</td>\n      <td>6.376789e+19</td>\n    </tr>\n    <tr>\n      <th>2018-10-28 00:12:00</th>\n      <td>-1.330703e+19</td>\n      <td>6.847705e+19</td>\n    </tr>\n    <tr>\n      <th>2018-10-28 00:24:00</th>\n      <td>-1.253655e+19</td>\n      <td>8.740412e+19</td>\n    </tr>\n    <tr>\n      <th>2018-10-28 00:36:00</th>\n      <td>-1.258985e+19</td>\n      <td>1.023376e+20</td>\n    </tr>\n    <tr>\n      <th>2018-10-28 00:48:00</th>\n      <td>-1.205261e+19</td>\n      <td>8.876795e+19</td>\n    </tr>\n    <tr>\n      <th>...</th>\n      <td>...</td>\n      <td>...</td>\n    </tr>\n    <tr>\n      <th>2018-10-30 07:00:00</th>\n      <td>-1.329372e+19</td>\n      <td>9.233607e+19</td>\n    </tr>\n    <tr>\n      <th>2018-10-30 07:12:00</th>\n      <td>-1.291377e+19</td>\n      <td>1.103461e+20</td>\n    </tr>\n    <tr>\n      <th>2018-10-30 07:24:00</th>\n      <td>-1.206358e+19</td>\n      <td>1.040168e+20</td>\n    </tr>\n    <tr>\n      <th>2018-10-30 07:36:00</th>\n      <td>-1.196758e+19</td>\n      <td>1.134233e+20</td>\n    </tr>\n    <tr>\n      <th>2018-10-30 07:48:00</th>\n      <td>-1.292715e+19</td>\n      <td>1.322772e+20</td>\n    </tr>\n  </tbody>\n</table>\n<p>280 rows × 2 columns</p>\n</div>"
     },
     "metadata": {},
     "execution_count": 7
    }
   ],
   "source": [
    "df_flux"
   ]
  },
  {
   "cell_type": "code",
   "execution_count": 3,
   "metadata": {},
   "outputs": [],
   "source": [
    "# We set a large possible set of periodicities\n",
    "PeriodMinMax = [5, 60]\n",
    "\n",
    "# Selecting ~ 10 hours of in situ observations\n",
    "timeInsitu = (datetime(2018, 10, 31, 12), datetime(2018, 10, 31, 22))\n",
    "timeInsitu = (datetime(2018, 10, 31, 12), datetime(2018, 10, 31, 15))\n",
    "\n",
    "# Selecting all of remote observations\n",
    "time171 = (df_171.head(1).index.to_pydatetime()[0],\n",
    "           df_171.tail(1).index.to_pydatetime()[0])\n",
    "time193 = (df_193.head(1).index.to_pydatetime()[0],\n",
    "           df_193.tail(1).index.to_pydatetime()[0])\n",
    "\n",
    "# Selecting?\n",
    "timeFlux = (parse_time(\"2018-10-28 00:00:00.000\").datetime,\n",
    "            parse_time(\"2018-10-30 07:48:01.000\").datetime)\n",
    "\n",
    "dfRemotes = {\n",
    "    \"df_171\": df_171[time171[0]:time171[1]],\n",
    "    \"df_193\": df_171[time193[0]:time193[1]],\n",
    "    \"df_flux\": df_flux[timeFlux[0]:timeFlux[1]],\n",
    "}"
   ]
  },
  {
   "source": [
    "# Using compareTS from signalFunctions"
   ],
   "cell_type": "markdown",
   "metadata": {}
  },
  {
   "cell_type": "code",
   "execution_count": 4,
   "metadata": {},
   "outputs": [
    {
     "output_type": "stream",
     "name": "stdout",
     "text": [
      "Normalising PSP_Br\nNormalising 171_plume\nSaving IMF files to /home/diegodp/Documents/PhD/Paper_3/SolO_SDO_EUI/unsafe/ISSI/171/171_plume/PSP_Br/60s/5 - 60/\nFound 980 displacements possible.\n"
     ]
    },
    {
     "output_type": "error",
     "ename": "KeyboardInterrupt",
     "evalue": "",
     "traceback": [
      "\u001b[0;31m---------------------------------------------------------------------------\u001b[0m",
      "\u001b[0;31mKeyboardInterrupt\u001b[0m                         Traceback (most recent call last)",
      "\u001b[0;32m<ipython-input-4-afbf7227eb9b>\u001b[0m in \u001b[0;36m<module>\u001b[0;34m\u001b[0m\n\u001b[1;32m     28\u001b[0m \u001b[0;34m\u001b[0m\u001b[0m\n\u001b[1;32m     29\u001b[0m \u001b[0;34m\u001b[0m\u001b[0m\n\u001b[0;32m---> 30\u001b[0;31m \u001b[0mAIA_compare\u001b[0m\u001b[0;34m(\u001b[0m\u001b[0mAIA\u001b[0m\u001b[0;34m=\u001b[0m\u001b[0mdfRemotes\u001b[0m\u001b[0;34m[\u001b[0m\u001b[0;34m\"df_171\"\u001b[0m\u001b[0;34m]\u001b[0m\u001b[0;34m,\u001b[0m \u001b[0mPSP\u001b[0m\u001b[0;34m=\u001b[0m\u001b[0mdf_is\u001b[0m\u001b[0;34m,\u001b[0m \u001b[0mAIA_id\u001b[0m\u001b[0;34m=\u001b[0m\u001b[0;34m\"171\"\u001b[0m\u001b[0;34m)\u001b[0m\u001b[0;34m\u001b[0m\u001b[0;34m\u001b[0m\u001b[0m\n\u001b[0m",
      "\u001b[0;32m<ipython-input-4-afbf7227eb9b>\u001b[0m in \u001b[0;36mAIA_compare\u001b[0;34m(AIA, PSP, AIA_id)\u001b[0m\n\u001b[1;32m      6\u001b[0m     \u001b[0mPSP\u001b[0m\u001b[0;34m.\u001b[0m\u001b[0mcolumns\u001b[0m \u001b[0;34m=\u001b[0m \u001b[0;34m[\u001b[0m\u001b[0;34mf\"PSP_{i}\"\u001b[0m \u001b[0;32mfor\u001b[0m \u001b[0mi\u001b[0m \u001b[0;32min\u001b[0m \u001b[0mPSP\u001b[0m\u001b[0;34m.\u001b[0m\u001b[0mcolumns\u001b[0m\u001b[0;34m]\u001b[0m\u001b[0;34m\u001b[0m\u001b[0;34m\u001b[0m\u001b[0m\n\u001b[1;32m      7\u001b[0m     \u001b[0mspecificFolder\u001b[0m \u001b[0;34m=\u001b[0m \u001b[0;34mf\"{saveFolder}{AIA_id}/\"\u001b[0m\u001b[0;34m\u001b[0m\u001b[0;34m\u001b[0m\u001b[0m\n\u001b[0;32m----> 8\u001b[0;31m     compareTS(\n\u001b[0m\u001b[1;32m      9\u001b[0m         \u001b[0mdfSelf\u001b[0m\u001b[0;34m=\u001b[0m\u001b[0mAIA\u001b[0m\u001b[0;34m,\u001b[0m\u001b[0;34m\u001b[0m\u001b[0;34m\u001b[0m\u001b[0m\n\u001b[1;32m     10\u001b[0m         \u001b[0mdfOther\u001b[0m\u001b[0;34m=\u001b[0m\u001b[0mPSP\u001b[0m\u001b[0;34m,\u001b[0m\u001b[0;34m\u001b[0m\u001b[0;34m\u001b[0m\u001b[0m\n",
      "\u001b[0;32m~/Documents/PhD/Paper_3/SolO_SDO_EUI/Scripts/EMDComparison/signalHelpers.py\u001b[0m in \u001b[0;36mcompareTS\u001b[0;34m(dfSelf, dfOther, cadSelf, cadOther, labelOther, winDispList, corrThrPlotList, PeriodMinMax, filterPeriods, savePath, useRealTime, expectedLocationList, detrend_box_width, delete, showFig, renormalize, showSpeed, SPCKernelName)\u001b[0m\n\u001b[1;32m   1790\u001b[0m                     \u001b[0mrmtree\u001b[0m\u001b[0;34m(\u001b[0m\u001b[0mselfSigFunc\u001b[0m\u001b[0;34m.\u001b[0m\u001b[0msaveFolder\u001b[0m\u001b[0;34m,\u001b[0m \u001b[0mignore_errors\u001b[0m\u001b[0;34m=\u001b[0m\u001b[0;32mTrue\u001b[0m\u001b[0;34m)\u001b[0m\u001b[0;34m\u001b[0m\u001b[0;34m\u001b[0m\u001b[0m\n\u001b[1;32m   1791\u001b[0m \u001b[0;34m\u001b[0m\u001b[0m\n\u001b[0;32m-> 1792\u001b[0;31m                 selfSigFunc.generate_windows(\n\u001b[0m\u001b[1;32m   1793\u001b[0m                     \u001b[0mother\u001b[0m\u001b[0;34m=\u001b[0m\u001b[0motherSigFunc\u001b[0m\u001b[0;34m,\u001b[0m\u001b[0;34m\u001b[0m\u001b[0;34m\u001b[0m\u001b[0m\n\u001b[1;32m   1794\u001b[0m                     \u001b[0mwindowDisp\u001b[0m\u001b[0;34m=\u001b[0m\u001b[0mwindowDisp\u001b[0m\u001b[0;34m,\u001b[0m\u001b[0;34m\u001b[0m\u001b[0;34m\u001b[0m\u001b[0m\n",
      "\u001b[0;32m~/Documents/PhD/Paper_3/SolO_SDO_EUI/Scripts/EMDComparison/signalHelpers.py\u001b[0m in \u001b[0;36mgenerate_windows\u001b[0;34m(self, other, windowDisp, plot_long_imfs, long_window_imf_list, filterIMFs_on_plot, useRealTime, filterPeriods, filter_low_high, renormalize)\u001b[0m\n\u001b[1;32m    883\u001b[0m \u001b[0;34m\u001b[0m\u001b[0m\n\u001b[1;32m    884\u001b[0m                 \u001b[0;31m# Derive EMD and save to relevant folder\u001b[0m\u001b[0;34m\u001b[0m\u001b[0;34m\u001b[0m\u001b[0;34m\u001b[0m\u001b[0m\n\u001b[0;32m--> 885\u001b[0;31m                 _long_imfs = emd_and_save(\n\u001b[0m\u001b[1;32m    886\u001b[0m                     \u001b[0ms\u001b[0m\u001b[0;34m=\u001b[0m\u001b[0m_data_long\u001b[0m\u001b[0;34m,\u001b[0m\u001b[0;34m\u001b[0m\u001b[0;34m\u001b[0m\u001b[0m\n\u001b[1;32m    887\u001b[0m                     \u001b[0mt\u001b[0m\u001b[0;34m=\u001b[0m\u001b[0m_time_long\u001b[0m\u001b[0;34m,\u001b[0m\u001b[0;34m\u001b[0m\u001b[0;34m\u001b[0m\u001b[0m\n",
      "\u001b[0;32m~/Documents/PhD/Paper_3/SolO_SDO_EUI/Scripts/EMDComparison/signalHelpers.py\u001b[0m in \u001b[0;36memd_and_save\u001b[0;34m(s, t, saveFolder, save_name, plot)\u001b[0m\n\u001b[1;32m    103\u001b[0m \u001b[0;34m\u001b[0m\u001b[0m\n\u001b[1;32m    104\u001b[0m     \u001b[0;31m# Will always use EMD. Will always get imfs and residue separately\u001b[0m\u001b[0;34m\u001b[0m\u001b[0;34m\u001b[0m\u001b[0;34m\u001b[0m\u001b[0m\n\u001b[0;32m--> 105\u001b[0;31m     \u001b[0mimfs\u001b[0m \u001b[0;34m=\u001b[0m \u001b[0memd\u001b[0m\u001b[0;34m.\u001b[0m\u001b[0memd\u001b[0m\u001b[0;34m(\u001b[0m\u001b[0mS\u001b[0m\u001b[0;34m=\u001b[0m\u001b[0ms\u001b[0m\u001b[0;34m,\u001b[0m \u001b[0mT\u001b[0m\u001b[0;34m=\u001b[0m\u001b[0mt\u001b[0m\u001b[0;34m)\u001b[0m\u001b[0;34m\u001b[0m\u001b[0;34m\u001b[0m\u001b[0m\n\u001b[0m\u001b[1;32m    106\u001b[0m \u001b[0;34m\u001b[0m\u001b[0m\n\u001b[1;32m    107\u001b[0m     \u001b[0;32mif\u001b[0m \u001b[0mplot\u001b[0m\u001b[0;34m:\u001b[0m\u001b[0;34m\u001b[0m\u001b[0;34m\u001b[0m\u001b[0m\n",
      "\u001b[0;32m~/anaconda3/envs/solarphysics/lib/python3.8/site-packages/EMD_signal-0.2.13-py3.8.egg/PyEMD/EMD.py\u001b[0m in \u001b[0;36memd\u001b[0;34m(self, S, T, max_imf)\u001b[0m\n\u001b[1;32m    818\u001b[0m                     \u001b[0;32mbreak\u001b[0m\u001b[0;34m\u001b[0m\u001b[0;34m\u001b[0m\u001b[0m\n\u001b[1;32m    819\u001b[0m \u001b[0;34m\u001b[0m\u001b[0m\n\u001b[0;32m--> 820\u001b[0;31m                 \u001b[0mext_res\u001b[0m \u001b[0;34m=\u001b[0m \u001b[0mself\u001b[0m\u001b[0;34m.\u001b[0m\u001b[0mfind_extrema\u001b[0m\u001b[0;34m(\u001b[0m\u001b[0mT\u001b[0m\u001b[0;34m,\u001b[0m \u001b[0mimf\u001b[0m\u001b[0;34m)\u001b[0m\u001b[0;34m\u001b[0m\u001b[0;34m\u001b[0m\u001b[0m\n\u001b[0m\u001b[1;32m    821\u001b[0m                 \u001b[0mmax_pos\u001b[0m\u001b[0;34m,\u001b[0m \u001b[0mmin_pos\u001b[0m\u001b[0;34m,\u001b[0m \u001b[0mindzer\u001b[0m \u001b[0;34m=\u001b[0m \u001b[0mext_res\u001b[0m\u001b[0;34m[\u001b[0m\u001b[0;36m0\u001b[0m\u001b[0;34m]\u001b[0m\u001b[0;34m,\u001b[0m \u001b[0mext_res\u001b[0m\u001b[0;34m[\u001b[0m\u001b[0;36m2\u001b[0m\u001b[0;34m]\u001b[0m\u001b[0;34m,\u001b[0m \u001b[0mext_res\u001b[0m\u001b[0;34m[\u001b[0m\u001b[0;36m4\u001b[0m\u001b[0;34m]\u001b[0m\u001b[0;34m\u001b[0m\u001b[0;34m\u001b[0m\u001b[0m\n\u001b[1;32m    822\u001b[0m                 \u001b[0mextNo\u001b[0m \u001b[0;34m=\u001b[0m \u001b[0mlen\u001b[0m\u001b[0;34m(\u001b[0m\u001b[0mmin_pos\u001b[0m\u001b[0;34m)\u001b[0m\u001b[0;34m+\u001b[0m\u001b[0mlen\u001b[0m\u001b[0;34m(\u001b[0m\u001b[0mmax_pos\u001b[0m\u001b[0;34m)\u001b[0m\u001b[0;34m\u001b[0m\u001b[0;34m\u001b[0m\u001b[0m\n",
      "\u001b[0;32m~/anaconda3/envs/solarphysics/lib/python3.8/site-packages/EMD_signal-0.2.13-py3.8.egg/PyEMD/EMD.py\u001b[0m in \u001b[0;36mfind_extrema\u001b[0;34m(self, T, S)\u001b[0m\n\u001b[1;32m    522\u001b[0m             \u001b[0;32mreturn\u001b[0m \u001b[0mself\u001b[0m\u001b[0;34m.\u001b[0m\u001b[0m_find_extrema_parabol\u001b[0m\u001b[0;34m(\u001b[0m\u001b[0mT\u001b[0m\u001b[0;34m,\u001b[0m \u001b[0mS\u001b[0m\u001b[0;34m)\u001b[0m\u001b[0;34m\u001b[0m\u001b[0;34m\u001b[0m\u001b[0m\n\u001b[1;32m    523\u001b[0m         \u001b[0;32melif\u001b[0m \u001b[0mself\u001b[0m\u001b[0;34m.\u001b[0m\u001b[0mextrema_detection\u001b[0m \u001b[0;34m==\u001b[0m \u001b[0;34m\"simple\"\u001b[0m\u001b[0;34m:\u001b[0m\u001b[0;34m\u001b[0m\u001b[0;34m\u001b[0m\u001b[0m\n\u001b[0;32m--> 524\u001b[0;31m             \u001b[0;32mreturn\u001b[0m \u001b[0mself\u001b[0m\u001b[0;34m.\u001b[0m\u001b[0m_find_extrema_simple\u001b[0m\u001b[0;34m(\u001b[0m\u001b[0mT\u001b[0m\u001b[0;34m,\u001b[0m \u001b[0mS\u001b[0m\u001b[0;34m)\u001b[0m\u001b[0;34m\u001b[0m\u001b[0;34m\u001b[0m\u001b[0m\n\u001b[0m\u001b[1;32m    525\u001b[0m         \u001b[0;32melse\u001b[0m\u001b[0;34m:\u001b[0m\u001b[0;34m\u001b[0m\u001b[0;34m\u001b[0m\u001b[0m\n\u001b[1;32m    526\u001b[0m             \u001b[0;32mraise\u001b[0m \u001b[0mValueError\u001b[0m\u001b[0;34m(\u001b[0m\u001b[0;34m\"Incorrect extrema detection type. Please try: 'simple' or 'parabol'.\"\u001b[0m\u001b[0;34m)\u001b[0m\u001b[0;34m\u001b[0m\u001b[0;34m\u001b[0m\u001b[0m\n",
      "\u001b[0;32m~/anaconda3/envs/solarphysics/lib/python3.8/site-packages/EMD_signal-0.2.13-py3.8.egg/PyEMD/EMD.py\u001b[0m in \u001b[0;36m_find_extrema_simple\u001b[0;34m(T, S)\u001b[0m\n\u001b[1;32m    599\u001b[0m         \u001b[0;31m# Finds indexes of zero-crossings\u001b[0m\u001b[0;34m\u001b[0m\u001b[0;34m\u001b[0m\u001b[0;34m\u001b[0m\u001b[0m\n\u001b[1;32m    600\u001b[0m         \u001b[0mS1\u001b[0m\u001b[0;34m,\u001b[0m \u001b[0mS2\u001b[0m \u001b[0;34m=\u001b[0m \u001b[0mS\u001b[0m\u001b[0;34m[\u001b[0m\u001b[0;34m:\u001b[0m\u001b[0;34m-\u001b[0m\u001b[0;36m1\u001b[0m\u001b[0;34m]\u001b[0m\u001b[0;34m,\u001b[0m \u001b[0mS\u001b[0m\u001b[0;34m[\u001b[0m\u001b[0;36m1\u001b[0m\u001b[0;34m:\u001b[0m\u001b[0;34m]\u001b[0m\u001b[0;34m\u001b[0m\u001b[0;34m\u001b[0m\u001b[0m\n\u001b[0;32m--> 601\u001b[0;31m         \u001b[0mindzer\u001b[0m \u001b[0;34m=\u001b[0m \u001b[0mnp\u001b[0m\u001b[0;34m.\u001b[0m\u001b[0mnonzero\u001b[0m\u001b[0;34m(\u001b[0m\u001b[0mS1\u001b[0m\u001b[0;34m*\u001b[0m\u001b[0mS2\u001b[0m\u001b[0;34m<\u001b[0m\u001b[0;36m0\u001b[0m\u001b[0;34m)\u001b[0m\u001b[0;34m[\u001b[0m\u001b[0;36m0\u001b[0m\u001b[0;34m]\u001b[0m\u001b[0;34m\u001b[0m\u001b[0;34m\u001b[0m\u001b[0m\n\u001b[0m\u001b[1;32m    602\u001b[0m         \u001b[0;32mif\u001b[0m \u001b[0mnp\u001b[0m\u001b[0;34m.\u001b[0m\u001b[0many\u001b[0m\u001b[0;34m(\u001b[0m\u001b[0mS\u001b[0m\u001b[0;34m==\u001b[0m\u001b[0;36m0\u001b[0m\u001b[0;34m)\u001b[0m\u001b[0;34m:\u001b[0m\u001b[0;34m\u001b[0m\u001b[0;34m\u001b[0m\u001b[0m\n\u001b[1;32m    603\u001b[0m             \u001b[0miz\u001b[0m \u001b[0;34m=\u001b[0m \u001b[0mnp\u001b[0m\u001b[0;34m.\u001b[0m\u001b[0mnonzero\u001b[0m\u001b[0;34m(\u001b[0m\u001b[0mS\u001b[0m\u001b[0;34m==\u001b[0m\u001b[0;36m0\u001b[0m\u001b[0;34m)\u001b[0m\u001b[0;34m[\u001b[0m\u001b[0;36m0\u001b[0m\u001b[0;34m]\u001b[0m\u001b[0;34m\u001b[0m\u001b[0;34m\u001b[0m\u001b[0m\n",
      "\u001b[0;31mKeyboardInterrupt\u001b[0m: "
     ]
    }
   ],
   "source": [
    "def AIA_compare(\n",
    "                AIA=dfRemotes[\"df_171\"], \n",
    "                PSP=df_is,\n",
    "                AIA_id=\"171\"):\n",
    "    AIA.columns = [f\"{AIA_id}_{i}\" for i in AIA.columns]\n",
    "    PSP.columns = [f\"PSP_{i}\" for i in PSP.columns]\n",
    "    specificFolder = f\"{saveFolder}{AIA_id}/\"\n",
    "    compareTS(\n",
    "        dfSelf=AIA,\n",
    "        dfOther=PSP,\n",
    "        cadSelf=60,\n",
    "        cadOther=60,\n",
    "        labelOther=\"PSP\",\n",
    "        winDispList=[60],\n",
    "        corrThrPlotList=np.arange(0.65, 1, 0.05),\n",
    "        PeriodMinMax=PeriodMinMax,\n",
    "        filterPeriods=True,\n",
    "        savePath=specificFolder,\n",
    "        useRealTime=True,\n",
    "        expectedLocationList=[],\n",
    "        detrend_box_width=200,\n",
    "        delete=True,\n",
    "        showFig=True,\n",
    "        renormalize=False,\n",
    "        showSpeed=True,\n",
    "        SPCKernelName=\"psp\",\n",
    "    )\n",
    "\n",
    "\n",
    "AIA_compare(AIA=dfRemotes[\"df_171\"], PSP=df_is, AIA_id=\"171\")"
   ]
  }
 ]
}